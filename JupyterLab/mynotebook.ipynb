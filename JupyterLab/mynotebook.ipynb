{
 "cells": [
  {
   "cell_type": "markdown",
   "id": "b0c7da1c",
   "metadata": {},
   "source": [
    "## Some Basics"
   ]
  },
  {
   "cell_type": "markdown",
   "id": "90abfcb0",
   "metadata": {},
   "source": [
    "Because Jupyter has a Python interpreter that will execute whatever code is embedded in a notebook file, all the standard arithmetic and mathematical operations can be performed as if we were writing a standalone Python script.\n",
    "\n",
    "Some of these, however, are particularly useful for this application."
   ]
  },
  {
   "cell_type": "markdown",
   "id": "d191bece",
   "metadata": {},
   "source": [
    "To find the minimum and maximum values in a set of variables:"
   ]
  },
  {
   "cell_type": "code",
   "execution_count": 16,
   "id": "4f40c4b9",
   "metadata": {},
   "outputs": [],
   "source": [
    "myFirstVariable = 2312\n",
    "mySecondVariable = 1339\n",
    "myThirdVariable = 9878"
   ]
  },
  {
   "cell_type": "code",
   "execution_count": 10,
   "id": "5f50d2e6",
   "metadata": {},
   "outputs": [
    {
     "data": {
      "text/plain": [
       "1339"
      ]
     },
     "execution_count": 10,
     "metadata": {},
     "output_type": "execute_result"
    }
   ],
   "source": [
    "min(myFirstVariable, mySecondVariable, myThirdVariable)"
   ]
  },
  {
   "cell_type": "code",
   "execution_count": 9,
   "id": "faeff80b",
   "metadata": {},
   "outputs": [
    {
     "data": {
      "text/plain": [
       "9878"
      ]
     },
     "execution_count": 9,
     "metadata": {},
     "output_type": "execute_result"
    }
   ],
   "source": [
    "max(myFirstVariable, mySecondVariable, myThirdVariable)"
   ]
  },
  {
   "cell_type": "markdown",
   "id": "b3b56ef0",
   "metadata": {},
   "source": [
    "And to find the range of a data set:"
   ]
  },
  {
   "cell_type": "code",
   "execution_count": 13,
   "id": "c1220cb4",
   "metadata": {},
   "outputs": [
    {
     "data": {
      "text/plain": [
       "8539"
      ]
     },
     "execution_count": 13,
     "metadata": {},
     "output_type": "execute_result"
    }
   ],
   "source": [
    "largest = max(myFirstVariable, mySecondVariable, myThirdVariable)\n",
    "smallest = min(myFirstVariable, mySecondVariable, myThirdVariable)\n",
    "mySetRange = largest - smallest\n",
    "mySetRange"
   ]
  },
  {
   "cell_type": "markdown",
   "id": "b104e0e3",
   "metadata": {},
   "source": [
    "Maybe a quicker way to find the average is to use an array. We could always assign array elements to variables or use variables as elements, if needed."
   ]
  },
  {
   "cell_type": "code",
   "execution_count": 35,
   "id": "b1a37a60",
   "metadata": {},
   "outputs": [
    {
     "data": {
      "text/plain": [
       "4512.5"
      ]
     },
     "execution_count": 35,
     "metadata": {},
     "output_type": "execute_result"
    }
   ],
   "source": [
    "dataSet = [2312, 1339, 9878, 4521]\n",
    "\n",
    "average = sum(dataSet)/len(dataSet)\n",
    "average"
   ]
  },
  {
   "cell_type": "code",
   "execution_count": 60,
   "id": "530156f5",
   "metadata": {},
   "outputs": [
    {
     "name": "stdout",
     "output_type": "stream",
     "text": [
      "2312\n",
      "1339\n",
      "9878\n",
      "4521\n"
     ]
    }
   ],
   "source": [
    "for i in dataSet:\n",
    "    print(i)"
   ]
  },
  {
   "cell_type": "markdown",
   "id": "899afefe",
   "metadata": {},
   "source": [
    "If we wanted to find the median of the set, we might be better off using the median() function from the statistics module:"
   ]
  },
  {
   "cell_type": "code",
   "execution_count": 28,
   "id": "81fdbdce",
   "metadata": {},
   "outputs": [
    {
     "data": {
      "text/plain": [
       "3416.5"
      ]
     },
     "execution_count": 28,
     "metadata": {},
     "output_type": "execute_result"
    }
   ],
   "source": [
    "import statistics as stats\n",
    "\n",
    "stats.median(dataSet)"
   ]
  },
  {
   "cell_type": "markdown",
   "id": "28fbc352",
   "metadata": {},
   "source": [
    "## Loading Data from a Spreadsheet File"
   ]
  },
  {
   "cell_type": "markdown",
   "id": "a8299147",
   "metadata": {},
   "source": [
    "The following we are going to use to import data from a spreadsheet."
   ]
  },
  {
   "cell_type": "code",
   "execution_count": null,
   "id": "c351ca95",
   "metadata": {},
   "outputs": [],
   "source": [
    "from pandas import *\n",
    "data = read_excel('testfile.xls')\n",
    "data"
   ]
  },
  {
   "cell_type": "markdown",
   "id": "0f6f2011",
   "metadata": {},
   "source": [
    "## Working with JSON Arrays"
   ]
  },
  {
   "cell_type": "code",
   "execution_count": 63,
   "id": "de93a0bb",
   "metadata": {},
   "outputs": [
    {
     "data": {
      "text/plain": [
       "{'FirstVariable': {'name': 'First Variable', 'value': 498},\n",
       " 'SecondVariable': {'name': 'Second Variable', 'value': 677},\n",
       " 'ThirdVariable': {'name': 'Third Variable', 'value': 121}}"
      ]
     },
     "execution_count": 63,
     "metadata": {},
     "output_type": "execute_result"
    }
   ],
   "source": [
    "jsonData = { 'FirstVariable' : {'name': 'First Variable', 'value' : 498 },\n",
    "            'SecondVariable' : {'name': 'Second Variable', 'value' : 677 }, \n",
    "            'ThirdVariable' : {'name': 'Third Variable', 'value' : 121 }}\n",
    "jsonData"
   ]
  },
  {
   "cell_type": "markdown",
   "id": "eda51e19",
   "metadata": {},
   "source": [
    "And retrieve a specific element:"
   ]
  },
  {
   "cell_type": "code",
   "execution_count": 53,
   "id": "7424848e",
   "metadata": {},
   "outputs": [
    {
     "data": {
      "text/plain": [
       "{'name': 'Second Variable', 'value': 677}"
      ]
     },
     "execution_count": 53,
     "metadata": {},
     "output_type": "execute_result"
    }
   ],
   "source": [
    "jsonData['SecondVariable']"
   ]
  },
  {
   "cell_type": "markdown",
   "id": "61fb3691",
   "metadata": {},
   "source": [
    "This is syntax for loading a JSON array using pandas.\n",
    "\n"
   ]
  },
  {
   "cell_type": "code",
   "execution_count": 92,
   "id": "bac9e7bf",
   "metadata": {},
   "outputs": [
    {
     "data": {
      "text/plain": [
       "{'markers': [{'name': 'Rixos The Palm Dubai', 'position': [25.1212, 55.1535]},\n",
       "  {'name': 'Shangri-La Hotel', 'location': [25.2084, 55.2719]},\n",
       "  {'name': 'Grand Hyatt', 'location': [25.2285, 55.3273]}]}"
      ]
     },
     "execution_count": 92,
     "metadata": {},
     "output_type": "execute_result"
    }
   ],
   "source": [
    "import json\n",
    "\n",
    "jsonArray = pandas.read_json(\"sample.json\")\n",
    "jsonFile = open(\"sample.json\",)\n",
    "\n",
    "data = json.load(jsonFile)\n",
    "\n",
    "data\n"
   ]
  },
  {
   "cell_type": "code",
   "execution_count": null,
   "id": "efc8dd8f",
   "metadata": {},
   "outputs": [],
   "source": []
  }
 ],
 "metadata": {
  "kernelspec": {
   "display_name": "Python 3",
   "language": "python",
   "name": "python3"
  },
  "language_info": {
   "codemirror_mode": {
    "name": "ipython",
    "version": 3
   },
   "file_extension": ".py",
   "mimetype": "text/x-python",
   "name": "python",
   "nbconvert_exporter": "python",
   "pygments_lexer": "ipython3",
   "version": "3.8.8"
  }
 },
 "nbformat": 4,
 "nbformat_minor": 5
}
